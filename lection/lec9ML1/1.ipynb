{
 "cells": [
  {
   "cell_type": "markdown",
   "metadata": {},
   "source": [
    "MACHINE LEARNING\n",
    "- a subset of AI(Artificial Intelligence)\n",
    "- includes abstruse statistical tech-qs that enable machines to improve at tasks with experience.\n",
    "- includes deep learning\n",
    "\n",
    "--system learn how to combine input to predict useful prediction or never-seen data\n",
    "\n",
    "exp:\n",
    "- spam analyser of email\n",
    "- picture analyser\n",
    "- weather model\n",
    "- system to predict stock market prices\n",
    "\n",
    "----------------------------------------------------\n",
    "\n",
    "VOCABULARY:\n",
    "- LABEL - the thing we are predicting\n",
    "- FEATURE - the input variable(s). it can be one or several features in your model\n",
    "\n",
    "exp:\n",
    "    house age(feature)   |  rooms(feature)  |  bedrooms(feature)   |  total price of house(label)\n",
    "            15           |        4         |          3           |              200.000\n",
    "\n",
    "\n",
    "\n",
    "- MODEL - the model\n",
    "\n",
    "- Regression - a type of model which predict continuous values(temperature, price of stock market/house)\n",
    "\n",
    "- Classification - a type of model which predict discrete values(the animal on the picture, category of mail)\n",
    "\n",
    "\n",
    "\n",
    "Using ML to predict:\n",
    "- the success of a movie in cinema\n",
    "- the best next chess move\n",
    "- the future success of a student\n",
    "\n",
    "\n",
    "\n",
    "The Linear regression:\n",
    "exp.\n",
    "- the cricket chirps method to calculate the temperature\n",
    "\n",
    "the math writing    y  = m.x + b;\n",
    "the ML writing      y' = b + w1x1\n",
    "\n",
    "\n",
    "MSE\n",
    "\n",
    "Learning Rate - factor use to multiply the magnitude\n",
    "\n",
    "a too small LR => too long;\n",
    "\n",
    "a too hihg  LR => long or diverge\n"
   ]
  },
  {
   "cell_type": "code",
   "execution_count": 1,
   "metadata": {},
   "outputs": [],
   "source": [
    "import numpy as np\n",
    "\n"
   ]
  },
  {
   "cell_type": "code",
   "execution_count": 2,
   "metadata": {},
   "outputs": [
    {
     "name": "stdout",
     "output_type": "stream",
     "text": [
      "[1 2 3 4 5 6]\n"
     ]
    }
   ],
   "source": [
    "array = np.array([1,2,3,4,5,6])\n",
    "print(array)"
   ]
  },
  {
   "cell_type": "code",
   "execution_count": 4,
   "metadata": {},
   "outputs": [
    {
     "name": "stdout",
     "output_type": "stream",
     "text": [
      "[[1 2 3]\n",
      " [4 5 6]]\n",
      "--------------------\n",
      "[[1, 2, 3], [4, 3, 5]]\n"
     ]
    }
   ],
   "source": [
    "l = [[1,2,3], [4, 3, 5 ]]\n",
    "array = np.array([[1,2,3], [4, 5, 6 ]])\n",
    "print(array)\n",
    "print('-'*20)\n",
    "print(l)"
   ]
  },
  {
   "cell_type": "code",
   "execution_count": 5,
   "metadata": {},
   "outputs": [
    {
     "name": "stdout",
     "output_type": "stream",
     "text": [
      "2\n"
     ]
    }
   ],
   "source": [
    "array = np.array([[1,2,3], [4, 5, 6 ]])\n",
    "print(array[0][1])"
   ]
  },
  {
   "cell_type": "code",
   "execution_count": 6,
   "metadata": {},
   "outputs": [
    {
     "name": "stdout",
     "output_type": "stream",
     "text": [
      "[55, 2, 3]\n",
      "[55, 2, 3]\n"
     ]
    }
   ],
   "source": [
    "l0 = [1,2,3]\n",
    "l1 = l0\n",
    "l1[0] = 55 # will change in both lists\n",
    "print(l0)\n",
    "print(l1)"
   ]
  },
  {
   "cell_type": "code",
   "execution_count": 8,
   "metadata": {},
   "outputs": [
    {
     "name": "stdout",
     "output_type": "stream",
     "text": [
      "[1 2 4]\n",
      "[1 2 4]\n",
      "[1 2 4]\n"
     ]
    }
   ],
   "source": [
    "array = np.array([1,2,3])\n",
    "ar1 = array.view()\n",
    "\n",
    "ar2 = array\n",
    "ar2[2]= 4\n",
    "print(array)\n",
    "print(ar1)\n",
    "print(ar2)"
   ]
  },
  {
   "cell_type": "code",
   "execution_count": 12,
   "metadata": {},
   "outputs": [
    {
     "name": "stdout",
     "output_type": "stream",
     "text": [
      "[[1 2]\n",
      " [3 4]\n",
      " [5 6]]\n",
      "[[1]\n",
      " [2]\n",
      " [3]\n",
      " [4]\n",
      " [5]\n",
      " [6]]\n"
     ]
    }
   ],
   "source": [
    "array = np.array([1,2,3,4,5,6])\n",
    "print(array.reshape((3, 2))) # 3 rows 2 column\n",
    "\n",
    "print(array.reshape((-1, 1))) \n",
    "\n"
   ]
  },
  {
   "cell_type": "code",
   "execution_count": 13,
   "metadata": {},
   "outputs": [
    {
     "name": "stdout",
     "output_type": "stream",
     "text": [
      "[[ 1  5]\n",
      " [ 9 31]\n",
      " [45 78]]\n"
     ]
    }
   ],
   "source": [
    "array = np.array([1,5,9,31,45,78])\n",
    "print(array.reshape(-1, 2))"
   ]
  }
 ],
 "metadata": {
  "kernelspec": {
   "display_name": "Python 3.10.1 64-bit",
   "language": "python",
   "name": "python3"
  },
  "language_info": {
   "codemirror_mode": {
    "name": "ipython",
    "version": 3
   },
   "file_extension": ".py",
   "mimetype": "text/x-python",
   "name": "python",
   "nbconvert_exporter": "python",
   "pygments_lexer": "ipython3",
   "version": "3.10.1"
  },
  "orig_nbformat": 4,
  "vscode": {
   "interpreter": {
    "hash": "df95319d8ce4e1d89f5365ae10992bc1f65da593082b1d264e8f529830ec2f02"
   }
  }
 },
 "nbformat": 4,
 "nbformat_minor": 2
}
