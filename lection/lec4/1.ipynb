{
 "cells": [
  {
   "cell_type": "markdown",
   "metadata": {},
   "source": [
    "WEB SCRAPPING\n",
    "\n",
    "3 methods:\n",
    "1) HUMAN METHOF\n",
    "2) API\n",
    "3) SCRAPPING"
   ]
  },
  {
   "cell_type": "markdown",
   "metadata": {},
   "source": [
    "API - Application Programming Interface -> when websites  give access to work with its data\n",
    "- interface between machines\n",
    "- operating systems or web API"
   ]
  },
  {
   "cell_type": "markdown",
   "metadata": {},
   "source": [
    "how it works:\n",
    "- you make a request\n",
    "- you get a answer\n",
    "\n",
    "Python libr \"request\""
   ]
  },
  {
   "cell_type": "code",
   "execution_count": 5,
   "metadata": {},
   "outputs": [
    {
     "name": "stdout",
     "output_type": "stream",
     "text": [
      "<Response [200]>\n",
      "{\"results\":[{\"gender\":\"male\",\"name\":{\"title\":\"Mr\",\"first\":\"Célian\",\"last\":\"Lemaire\"},\"location\":{\"street\":{\"number\":2876,\"name\":\"Place de la Mairie\"},\"city\":\"Perpignan\",\"state\":\"Haute-Loire\",\"country\":\"France\",\"postcode\":48085,\"coordinates\":{\"latitude\":\"-18.8634\",\"longitude\":\"-172.8866\"},\"timezone\":{\"offset\":\"-5:00\",\"description\":\"Eastern Time (US & Canada), Bogota, Lima\"}},\"email\":\"celian.lemaire@example.com\",\"login\":{\"uuid\":\"28344b66-c59a-4894-8239-160ef76c10e0\",\"username\":\"brownlion164\",\"password\":\"bull\",\"salt\":\"WuLNFKqr\",\"md5\":\"8c2b891658006d6f6ae5d6b053b6d969\",\"sha1\":\"cc8c0f31ec610af856abce3f4e3c1fdd0b12d2c5\",\"sha256\":\"42d3e26a4520a68e5190fdf42d39599e9cf03a200ff76db5a9764b5ef46215c3\"},\"dob\":{\"date\":\"1966-12-23T19:52:16.525Z\",\"age\":55},\"registered\":{\"date\":\"2002-08-20T13:37:06.099Z\",\"age\":20},\"phone\":\"05-44-70-08-05\",\"cell\":\"06-61-08-41-48\",\"id\":{\"name\":\"INSEE\",\"value\":\"1661128049435 51\"},\"picture\":{\"large\":\"https://randomuser.me/api/portraits/men/88.jpg\",\"medium\":\"https://randomuser.me/api/portraits/med/men/88.jpg\",\"thumbnail\":\"https://randomuser.me/api/portraits/thumb/men/88.jpg\"},\"nat\":\"FR\"}],\"info\":{\"seed\":\"a99ed868c41d2da9\",\"results\":1,\"page\":1,\"version\":\"1.4\"}}\n"
     ]
    }
   ],
   "source": [
    "import requests\n",
    "\n",
    "response = requests.get('https://randomuser.me/api/')\n",
    "\n",
    "print(response)\n",
    "print(response.text)"
   ]
  },
  {
   "cell_type": "code",
   "execution_count": null,
   "metadata": {},
   "outputs": [],
   "source": [
    "import requests\n",
    "\n",
    "response = requests.get('https://api.thedogapi.com/v1/breeds/')\n",
    "\n",
    "print(response)\n",
    "print(response.text)"
   ]
  },
  {
   "cell_type": "code",
   "execution_count": 12,
   "metadata": {},
   "outputs": [
    {
     "name": "stdout",
     "output_type": "stream",
     "text": [
      "<Response [200]>\n",
      "[{\"id\":\"MTc0NDI4MQ\",\"url\":\"https://cdn2.thecatapi.com/images/MTc0NDI4MQ.jpg\",\"width\":1024,\"height\":680}]\n"
     ]
    }
   ],
   "source": [
    "import requests\n",
    "\n",
    "response = requests.get('https://api.thecatapi.com/v1/images/search')\n",
    "\n",
    "print(response)\n",
    "print(response.text)"
   ]
  },
  {
   "cell_type": "code",
   "execution_count": 21,
   "metadata": {},
   "outputs": [
    {
     "name": "stdout",
     "output_type": "stream",
     "text": [
      "{'Date': 'Sat, 01 Oct 2022 09:46:26 GMT', 'Content-Type': 'application/json; charset=utf-8', 'Transfer-Encoding': 'chunked', 'Connection': 'keep-alive', 'X-Powered-By': 'Express', 'Access-Control-Allow-Origin': '*', 'Cache-Control': 'no-cache', 'ETag': 'W/\"484-6/PwkKH6+RaKclDlh9qJOdmd3mg\"', 'Vary': 'Accept-Encoding', 'Content-Encoding': 'gzip', 'CF-Cache-Status': 'DYNAMIC', 'Report-To': '{\"endpoints\":[{\"url\":\"https:\\\\/\\\\/a.nel.cloudflare.com\\\\/report\\\\/v3?s=JG5bqfw1iTyKymIaL0wl4liP8wyQOLlAHalBZAXLT%2BiZJkmEBQ865QNG%2F3yhjXySCwuzmuax8LL4R899MLSpJmyjtCwX0uUoafTZOh4ceVbzky3nWIj3di6XXxcqQrV4\"}],\"group\":\"cf-nel\",\"max_age\":604800}', 'NEL': '{\"success_fraction\":0,\"report_to\":\"cf-nel\",\"max_age\":604800}', 'Server': 'cloudflare', 'CF-RAY': '7534456b6bbd904c-FRA', 'alt-svc': 'h3=\":443\"; ma=86400, h3-29=\":443\"; ma=86400'}\n",
      "{'User-Agent': 'python-requests/2.28.1', 'Accept-Encoding': 'gzip, deflate', 'Accept': '*/*', 'Connection': 'keep-alive'}\n"
     ]
    }
   ],
   "source": [
    "import requests\n",
    "\n",
    "response = requests.get('https://randomuser.me/api/')\n",
    "\n",
    "# print(response)\n",
    "# print(response.request)\n",
    "# print(response.status_code)\n",
    "# print(response.reason)\n",
    "print(response.headers)\n",
    "# print(response.request.url)\n",
    "# print(response.request.path_url)\n",
    "# print(response.request.method)\n",
    "print(response.request.headers)"
   ]
  },
  {
   "cell_type": "code",
   "execution_count": 7,
   "metadata": {},
   "outputs": [
    {
     "name": "stdout",
     "output_type": "stream",
     "text": [
      "https://cdn2.thecatapi.com/images/e1m.jpg\n"
     ]
    }
   ],
   "source": [
    "import requests\n",
    " \n",
    "#create your own headers\n",
    "\n",
    "headers = {'User-Agent' : 'Mozilla/5.0 (Windows NT 10.0; Win64; x64; rv:104.0) Gecko/20100101 Firefox/104.0'}\n",
    "url = 'https://api.thecatapi.com/v1/images/search'\n",
    "resp = requests.get(url, headers = headers)\n",
    "# print(resp.text)\n",
    "# print(resp.request.headers)\n",
    "# print(resp.headers)\n",
    "\n",
    "resp_json = resp.json()\n",
    "print(resp_json[0]['url']) #to show the url \n"
   ]
  },
  {
   "cell_type": "code",
   "execution_count": 11,
   "metadata": {},
   "outputs": [
    {
     "name": "stdout",
     "output_type": "stream",
     "text": [
      "<Response [401]>\n"
     ]
    }
   ],
   "source": [
    "url = 'https://api.thecatapi.com/v1/images/search'\n",
    "resp = requests.put(url)\n",
    "print(resp)"
   ]
  },
  {
   "cell_type": "code",
   "execution_count": null,
   "metadata": {},
   "outputs": [],
   "source": [
    "\n",
    "url = 'https://cdn2.thecatapi.com/images/250.jpg'\n",
    "resp = requests.get(url)\n",
    "print(resp.content)"
   ]
  },
  {
   "cell_type": "code",
   "execution_count": null,
   "metadata": {},
   "outputs": [],
   "source": [
    "with open(r'C:\\Users\\USER\\Desktop\\ICT')"
   ]
  }
 ],
 "metadata": {
  "kernelspec": {
   "display_name": "Python 3.10.1 64-bit",
   "language": "python",
   "name": "python3"
  },
  "language_info": {
   "codemirror_mode": {
    "name": "ipython",
    "version": 3
   },
   "file_extension": ".py",
   "mimetype": "text/x-python",
   "name": "python",
   "nbconvert_exporter": "python",
   "pygments_lexer": "ipython3",
   "version": "3.10.1"
  },
  "orig_nbformat": 4,
  "vscode": {
   "interpreter": {
    "hash": "df95319d8ce4e1d89f5365ae10992bc1f65da593082b1d264e8f529830ec2f02"
   }
  }
 },
 "nbformat": 4,
 "nbformat_minor": 2
}
