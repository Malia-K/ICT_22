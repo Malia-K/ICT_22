{
 "cells": [
  {
   "cell_type": "markdown",
   "metadata": {},
   "source": [
    "# API"
   ]
  },
  {
   "cell_type": "code",
   "execution_count": null,
   "metadata": {},
   "outputs": [],
   "source": [
    "#install the requests package: pip install requests"
   ]
  },
  {
   "cell_type": "code",
   "execution_count": 2,
   "metadata": {},
   "outputs": [
    {
     "name": "stdout",
     "output_type": "stream",
     "text": [
      "2.28.1\n"
     ]
    }
   ],
   "source": [
    "#Import the package requests\n",
    "import requests\n",
    "print(requests.__version__)"
   ]
  },
  {
   "cell_type": "code",
   "execution_count": 3,
   "metadata": {},
   "outputs": [
    {
     "name": "stdout",
     "output_type": "stream",
     "text": [
      "<Response [200]>\n"
     ]
    }
   ],
   "source": [
    "#Calling the API of randomuser.me website (address is \"https://randomuser.me/api/\")\n",
    "response = requests.get(\"https://randomuser.me/api/\")\n",
    "print(response)"
   ]
  },
  {
   "cell_type": "code",
   "execution_count": 4,
   "metadata": {
    "scrolled": true
   },
   "outputs": [
    {
     "name": "stdout",
     "output_type": "stream",
     "text": [
      "{\"results\":[{\"gender\":\"male\",\"name\":{\"title\":\"Monsieur\",\"first\":\"Oscar\",\"last\":\"Muller\"},\"location\":{\"street\":{\"number\":4763,\"name\":\"Rue Barrème\"},\"city\":\"Kirchdorf (Be)\",\"state\":\"Luzern\",\"country\":\"Switzerland\",\"postcode\":4933,\"coordinates\":{\"latitude\":\"-61.9358\",\"longitude\":\"-61.7270\"},\"timezone\":{\"offset\":\"-7:00\",\"description\":\"Mountain Time (US & Canada)\"}},\"email\":\"oscar.muller@example.com\",\"login\":{\"uuid\":\"cb276764-e61d-430b-8277-11c968df6113\",\"username\":\"heavykoala208\",\"password\":\"bonjour\",\"salt\":\"4yfZncSI\",\"md5\":\"3dedbe1cde692c6daa23c72b5b08cc9d\",\"sha1\":\"1c249b2317b57c40798825f24780779ee823e6b0\",\"sha256\":\"84fbe7f46a0663c52167dd5271d5ec38d7b0b1c8ab78b1d8e73405ed235854e8\"},\"dob\":{\"date\":\"1951-03-06T17:18:01.512Z\",\"age\":71},\"registered\":{\"date\":\"2018-03-25T12:01:36.469Z\",\"age\":4},\"phone\":\"077 894 10 21\",\"cell\":\"076 777 20 93\",\"id\":{\"name\":\"AVS\",\"value\":\"756.9516.8613.01\"},\"picture\":{\"large\":\"https://randomuser.me/api/portraits/men/62.jpg\",\"medium\":\"https://randomuser.me/api/portraits/med/men/62.jpg\",\"thumbnail\":\"https://randomuser.me/api/portraits/thumb/men/62.jpg\"},\"nat\":\"CH\"}],\"info\":{\"seed\":\"25c2a647c95051cc\",\"results\":1,\"page\":1,\"version\":\"1.4\"}}\n"
     ]
    }
   ],
   "source": [
    "#Check the text in the reponse\n",
    "print(response.text)"
   ]
  },
  {
   "cell_type": "code",
   "execution_count": 5,
   "metadata": {},
   "outputs": [
    {
     "name": "stdout",
     "output_type": "stream",
     "text": [
      "{\"message\":\"The Dog API\",\"version\":\"1.2.0\"}\n"
     ]
    }
   ],
   "source": [
    "#The dog API connection (https://api.thedogapi.com/)\n",
    "response = requests.get(\"https://api.thedogapi.com/\")\n",
    "print(response.text)"
   ]
  },
  {
   "cell_type": "code",
   "execution_count": null,
   "metadata": {
    "scrolled": true
   },
   "outputs": [],
   "source": [
    "#Connecting to an Endpoint\n",
    "response = requests.get(\"https://api.thedogapi.com/v1/breeds\")\n",
    "print(response.text)"
   ]
  },
  {
   "cell_type": "code",
   "execution_count": null,
   "metadata": {},
   "outputs": [],
   "source": [
    "# YOUR TURN\n",
    "# Connect to TheCatApi through the url : https://api.thecatapi.com/ \n",
    "# Check in the documentation how to get a random picture of a cat\n",
    "# Make the calling and print the text of the answer\n",
    "#10 minutes\n",
    "\n",
    "resp = requests.get(\"https://api.thecatapi.com/v1/images/search\")\n",
    "print(resp.text)"
   ]
  },
  {
   "cell_type": "code",
   "execution_count": 7,
   "metadata": {
    "scrolled": true
   },
   "outputs": [
    {
     "name": "stdout",
     "output_type": "stream",
     "text": [
      "<PreparedRequest [GET]>\n",
      "https://api.thecatapi.com/v1/images/search\n",
      "/v1/images/search\n",
      "GET\n",
      "{'User-Agent': 'python-requests/2.28.1', 'Accept-Encoding': 'gzip, deflate', 'Accept': '*/*', 'Connection': 'keep-alive'}\n"
     ]
    }
   ],
   "source": [
    "#Some information about a request\n",
    "#response.request\n",
    "#.url\n",
    "#.path_url\n",
    "#.method\n",
    "#.headers\n",
    "\n",
    "resp = requests.get(\"https://api.thecatapi.com/v1/images/search\")\n",
    "print(resp.request)\n",
    "print(resp.request.url)\n",
    "print(resp.request.path_url)\n",
    "print(resp.request.method)\n",
    "print(resp.request.headers)"
   ]
  },
  {
   "cell_type": "code",
   "execution_count": 8,
   "metadata": {},
   "outputs": [
    {
     "name": "stdout",
     "output_type": "stream",
     "text": [
      "https://api.thecatapi.com/v1/images/search\n",
      "200\n",
      "OK\n",
      "{'x-dns-prefetch-control': 'off', 'x-frame-options': 'SAMEORIGIN', 'strict-transport-security': 'max-age=15552000; includeSubDomains', 'x-download-options': 'noopen', 'x-content-type-options': 'nosniff', 'x-xss-protection': '1; mode=block', 'vary': 'Origin', 'expires': 'Tue, 03 Jul 2001 06:00:00 GMT', 'last-modified': 'Sat Dec 24 2022 14:35:47 GMT+0000 (Coordinated Universal Time)', 'cache-control': 'post-check=0, pre-check=0', 'authenticated': 'false', 'content-type': 'application/json; charset=utf-8', 'x-response-time': '1ms', 'X-Cloud-Trace-Context': '6a5f4bf0560af8616067dcb2ef2c969e', 'Date': 'Sat, 24 Dec 2022 14:35:47 GMT', 'Server': 'Google Frontend', 'Content-Length': '89'}\n"
     ]
    }
   ],
   "source": [
    "#Some information about a response\n",
    "#.text\n",
    "#.status_code\n",
    "#.reason\n",
    "#.headers\n",
    "resp = requests.get(\"https://api.thecatapi.com/v1/images/search\")\n",
    "print(resp.url)\n",
    "print(resp.status_code)\n",
    "print(resp.reason)\n",
    "print(resp.headers)"
   ]
  },
  {
   "cell_type": "code",
   "execution_count": 9,
   "metadata": {},
   "outputs": [
    {
     "name": "stdout",
     "output_type": "stream",
     "text": [
      "<Response [404]>\n"
     ]
    }
   ],
   "source": [
    "#Let's get other response than 200\n",
    "\n",
    "resp = requests.get(\"https://api.thecatapi.com/images/searc\")\n",
    "print(resp)"
   ]
  },
  {
   "cell_type": "code",
   "execution_count": 10,
   "metadata": {
    "scrolled": false
   },
   "outputs": [],
   "source": [
    "#check headers of the response and the request\n",
    "\n",
    "resp = requests.get(\"https://api.thecatapi.com/v1/images/search\")"
   ]
  },
  {
   "cell_type": "code",
   "execution_count": 11,
   "metadata": {},
   "outputs": [
    {
     "name": "stdout",
     "output_type": "stream",
     "text": [
      "{'User-Agent': 'python-requests/2.28.1', 'Accept-Encoding': 'gzip, deflate', 'Accept': '*/*', 'Connection': 'keep-alive'}\n",
      "{'x-dns-prefetch-control': 'off', 'x-frame-options': 'SAMEORIGIN', 'strict-transport-security': 'max-age=15552000; includeSubDomains', 'x-download-options': 'noopen', 'x-content-type-options': 'nosniff', 'x-xss-protection': '1; mode=block', 'vary': 'Origin', 'expires': 'Tue, 03 Jul 2001 06:00:00 GMT', 'last-modified': 'Sat Dec 24 2022 14:36:47 GMT+0000 (Coordinated Universal Time)', 'cache-control': 'post-check=0, pre-check=0', 'authenticated': 'false', 'content-type': 'application/json; charset=utf-8', 'x-response-time': '2ms', 'X-Cloud-Trace-Context': '86adbaf481ee15cf2179dd69a9640ec0', 'Date': 'Sat, 24 Dec 2022 14:36:47 GMT', 'Server': 'Google Frontend', 'Content-Length': '89'}\n"
     ]
    }
   ],
   "source": [
    "#Print headers of server and client\n",
    "print(resp.request.headers)\n",
    "print(resp.headers)"
   ]
  },
  {
   "cell_type": "code",
   "execution_count": 14,
   "metadata": {},
   "outputs": [
    {
     "name": "stdout",
     "output_type": "stream",
     "text": [
      "{'User-Agent': 'Mozilla/5.0 (Windows NT 10.0; Win64; x64; rv:104.0) Gecko/20100101 Firefox/104.0', 'Accept-Encoding': 'gzip, deflate', 'Accept': '*/*', 'Connection': 'keep-alive'}\n"
     ]
    }
   ],
   "source": [
    "#Create your own headers\n",
    "#make a request with your own headers\n",
    "headers = {'User-Agent' : 'Mozilla/5.0 (Windows NT 10.0; Win64; x64; rv:104.0) Gecko/20100101 Firefox/104.0'}\n",
    "url = 'https://api.thecatapi.com/v1/images/search'\n",
    "resp = requests.get(url, headers = headers)\n",
    "print(resp.request.headers)"
   ]
  },
  {
   "cell_type": "code",
   "execution_count": 2,
   "metadata": {},
   "outputs": [
    {
     "name": "stdout",
     "output_type": "stream",
     "text": [
      "{'Date': 'Sun, 25 Sep 2022 13:10:23 GMT', 'Content-Type': 'image/jpeg', 'Content-Length': '216617', 'Connection': 'keep-alive', 'last-modified': 'Thu, 27 Sep 2018 01:08:39 GMT', 'etag': '\"bc4f938d4f2a0ddfb18508cb1f16a525\"', 'x-cache': 'Miss from cloudfront', 'via': '1.1 af99c3a89a763b28315bf37a304c4f2c.cloudfront.net (CloudFront)', 'x-amz-cf-pop': 'MXP64-C1', 'x-amz-cf-id': 'X3qKDGjVslja6jTMYEsk14SLef05CfdikhnChfeFsEpXasPMHOjXlw==', 'Cache-Control': 'max-age=14400', 'CF-Cache-Status': 'MISS', 'Accept-Ranges': 'bytes', 'Report-To': '{\"endpoints\":[{\"url\":\"https:\\\\/\\\\/a.nel.cloudflare.com\\\\/report\\\\/v3?s=OHw7NGGhkCzX71oiDg7v%2F3kkj69U%2FZYU%2F2N0tzweXoWDtMuCKxRvBR%2BuU%2FHpWRXSMySkUosN%2BBpftZvafJNBtSONK4BLCtHXFE%2FB3LDVw%2BPwvSJkA2gvrqqvXEWe3yh1ogKeX5rwi9y1Q%2BTF7QGvC2I%3D\"}],\"group\":\"cf-nel\",\"max_age\":604800}', 'NEL': '{\"success_fraction\":0,\"report_to\":\"cf-nel\",\"max_age\":604800}', 'Vary': 'Accept-Encoding', 'Server': 'cloudflare', 'CF-RAY': '7503ffe559314203-MRS', 'alt-svc': 'h3=\":443\"; ma=86400, h3-29=\":443\"; ma=86400'}\n"
     ]
    }
   ],
   "source": [
    "headers = {'User-Agent' : 'Mozilla/5.0 (Windows NT 10.0; Win64; x64; rv:104.0) Gecko/20100101 Firefox/104.0'}\n",
    "url = 'https://cdn2.thecatapi.com/images/d8k.jpg'\n",
    "resp = requests.get(url, headers = headers)\n",
    "print(resp.headers)"
   ]
  },
  {
   "cell_type": "code",
   "execution_count": 13,
   "metadata": {},
   "outputs": [
    {
     "name": "stdout",
     "output_type": "stream",
     "text": [
      "[{'id': '4s4', 'url': 'https://cdn2.thecatapi.com/images/4s4.jpg', 'width': 500, 'height': 332}]\n"
     ]
    }
   ],
   "source": [
    "#The differents methods of the response\n",
    "headers = {'User-Agent' : 'Mozilla/5.0 (Windows NT 10.0; Win64; x64; rv:104.0) Gecko/20100101 Firefox/104.0'}\n",
    "url = 'https://api.thecatapi.com/v1/images/search'\n",
    "resp = requests.get(url, headers = headers)\n",
    "resp_json = resp.json()\n",
    "print(resp_json)"
   ]
  },
  {
   "cell_type": "code",
   "execution_count": 14,
   "metadata": {},
   "outputs": [
    {
     "name": "stdout",
     "output_type": "stream",
     "text": [
      "<Response [401]>\n"
     ]
    }
   ],
   "source": [
    "#The different content type\n",
    "url = 'https://api.thecatapi.com/v1/images/search'\n",
    "resp = requests.delete(url)\n",
    "print(resp)"
   ]
  },
  {
   "cell_type": "code",
   "execution_count": null,
   "metadata": {},
   "outputs": [],
   "source": [
    "#Request an image\n",
    "url = 'https://cdn2.thecatapi.com/images/250.jpg'\n",
    "resp = requests.get(url)\n",
    "print(resp.content)"
   ]
  },
  {
   "cell_type": "code",
   "execution_count": 17,
   "metadata": {},
   "outputs": [],
   "source": [
    "#Save the image\n",
    "with open(r\"D:\\KBTU\\2022-2023\\Python Course\\Course\\Lecture\\Lecture_4\\cute_cat.jpg\", 'wb') as file:\n",
    "    file.write(resp.content)\n",
    "    "
   ]
  },
  {
   "cell_type": "code",
   "execution_count": 28,
   "metadata": {},
   "outputs": [
    {
     "name": "stdout",
     "output_type": "stream",
     "text": [
      "{\"results\":[{\"gender\":\"male\",\"name\":{\"title\":\"Mr\",\"first\":\"Iker\",\"last\":\"Alonso\"},\"location\":{\"street\":{\"number\":7570,\"name\":\"Avenida de América\"},\"city\":\"Lugo\",\"state\":\"Castilla y León\",\"country\":\"Spain\",\"postcode\":27269,\"coordinates\":{\"latitude\":\"-31.6680\",\"longitude\":\"-2.4177\"},\"timezone\":{\"offset\":\"+5:45\",\"description\":\"Kathmandu\"}},\"email\":\"iker.alonso@example.com\",\"login\":{\"uuid\":\"0bc07532-7d6a-4b63-8900-7850fc7cd46d\",\"username\":\"purplebear143\",\"password\":\"legion\",\"salt\":\"jB1ANSxo\",\"md5\":\"0446a75c38ff8fe23d4e6973c02e12b9\",\"sha1\":\"fbc9172d1ccc28019bc863e1474ee90e9838fd5c\",\"sha256\":\"5ed944d13546d77119190a7598996dd152f2de19bd8b19b9dd149a269c4eb6b3\"},\"dob\":{\"date\":\"1972-05-26T23:44:03.694Z\",\"age\":50},\"registered\":{\"date\":\"2013-01-11T19:49:45.439Z\",\"age\":9},\"phone\":\"909-847-824\",\"cell\":\"681-995-338\",\"id\":{\"name\":\"DNI\",\"value\":\"09151425-B\"},\"picture\":{\"large\":\"https://randomuser.me/api/portraits/men/32.jpg\",\"medium\":\"https://randomuser.me/api/portraits/med/men/32.jpg\",\"thumbnail\":\"https://randomuser.me/api/portraits/thumb/men/32.jpg\"},\"nat\":\"ES\"}],\"info\":{\"seed\":\"b4da689818c6a824\",\"results\":1,\"page\":1,\"version\":\"1.4\"}}\n"
     ]
    }
   ],
   "source": [
    "#The use of a query parameter to specify your request\n",
    "url = \"https://randomuser.me/api?gender=male\"\n",
    "resp = requests.get(url)\n",
    "print(resp.text)"
   ]
  },
  {
   "cell_type": "code",
   "execution_count": 29,
   "metadata": {},
   "outputs": [
    {
     "name": "stdout",
     "output_type": "stream",
     "text": [
      "{\"results\":[{\"gender\":\"male\",\"name\":{\"title\":\"Mr\",\"first\":\"Charles\",\"last\":\"Brun\"},\"location\":{\"street\":{\"number\":3439,\"name\":\"Rue des Chartreux\"},\"city\":\"Pau\",\"state\":\"Rhône\",\"country\":\"France\",\"postcode\":28536,\"coordinates\":{\"latitude\":\"-5.2765\",\"longitude\":\"-128.1501\"},\"timezone\":{\"offset\":\"+1:00\",\"description\":\"Brussels, Copenhagen, Madrid, Paris\"}},\"email\":\"charles.brun@example.com\",\"login\":{\"uuid\":\"175bac39-d2f8-48b6-9883-391020d6f0ad\",\"username\":\"lazylion280\",\"password\":\"maggot\",\"salt\":\"IYj0GHRy\",\"md5\":\"2c43c40af9e2dabf9b588631b7076a45\",\"sha1\":\"5a1d0983fea49ebb30bf83dbc03a92641d596eed\",\"sha256\":\"d3d0acc464174b3a3cb296f7ae44ee3fe1c00252e0256d2e5546182dd8f7980b\"},\"dob\":{\"date\":\"1957-02-17T21:19:34.224Z\",\"age\":65},\"registered\":{\"date\":\"2013-12-22T20:05:56.712Z\",\"age\":8},\"phone\":\"01-10-83-90-68\",\"cell\":\"06-26-63-60-39\",\"id\":{\"name\":\"INSEE\",\"value\":\"1570117132322 95\"},\"picture\":{\"large\":\"https://randomuser.me/api/portraits/men/12.jpg\",\"medium\":\"https://randomuser.me/api/portraits/med/men/12.jpg\",\"thumbnail\":\"https://randomuser.me/api/portraits/thumb/men/12.jpg\"},\"nat\":\"FR\"}],\"info\":{\"seed\":\"14fb7cf3d7d644d5\",\"results\":1,\"page\":1,\"version\":\"1.4\"}}\n"
     ]
    }
   ],
   "source": [
    "# YOUR TURN\n",
    "# Use the api for rendomuser.me to generat only male from nat : 'FR'\n",
    "# 10 minutes\n",
    "url = \"https://randomuser.me/api?gender=male&nat=FR\"\n",
    "resp = requests.get(url)\n",
    "print(resp.text)"
   ]
  },
  {
   "cell_type": "code",
   "execution_count": 32,
   "metadata": {
    "scrolled": true
   },
   "outputs": [
    {
     "name": "stdout",
     "output_type": "stream",
     "text": [
      "{\"results\":[{\"gender\":\"male\",\"name\":{\"title\":\"Mr\",\"first\":\"Nils\",\"last\":\"Simon\"},\"location\":{\"street\":{\"number\":787,\"name\":\"Avenue du Château\"},\"city\":\"Champigny-sur-Marne\",\"state\":\"Seine-Saint-Denis\",\"country\":\"France\",\"postcode\":75037,\"coordinates\":{\"latitude\":\"-87.7096\",\"longitude\":\"80.9245\"},\"timezone\":{\"offset\":\"-2:00\",\"description\":\"Mid-Atlantic\"}},\"email\":\"nils.simon@example.com\",\"login\":{\"uuid\":\"f5113dbf-7655-4cce-95a1-fa1c9979fef2\",\"username\":\"greenostrich176\",\"password\":\"erotic\",\"salt\":\"0EzwwVV4\",\"md5\":\"6ccd6ee924840d31228a0f0e0e9727b2\",\"sha1\":\"d2d0f7b489509115b2109ab85e7fd7ac11833da9\",\"sha256\":\"4a48209f32687329aa28f1eb9edca42bdef1ebf9a3b0f25c361fa7710c3dd274\"},\"dob\":{\"date\":\"1999-11-07T06:00:53.481Z\",\"age\":22},\"registered\":{\"date\":\"2015-11-28T23:49:39.466Z\",\"age\":6},\"phone\":\"04-55-45-98-91\",\"cell\":\"06-44-79-21-29\",\"id\":{\"name\":\"INSEE\",\"value\":\"1991079321360 14\"},\"picture\":{\"large\":\"https://randomuser.me/api/portraits/men/9.jpg\",\"medium\":\"https://randomuser.me/api/portraits/med/men/9.jpg\",\"thumbnail\":\"https://randomuser.me/api/portraits/thumb/men/9.jpg\"},\"nat\":\"FR\"}],\"info\":{\"seed\":\"5c77baddeb89cc7a\",\"results\":1,\"page\":1,\"version\":\"1.4\"}}\n"
     ]
    }
   ],
   "source": [
    "#use a dictionary to for query parameters\n",
    "headers = {'User-Agent' : 'Mozilla/5.0 (Windows NT 10.0; Win64; x64; rv:104.0) Gecko/20100101 Firefox/104.0'}\n",
    "dictio = {\n",
    "    'gender' : 'male', \n",
    "    'nat' : 'FR'\n",
    "}\n",
    "url = \"https://randomuser.me/api\"\n",
    "resp = requests.get(url, params = dictio, headers = headers)\n",
    "print(resp.text)"
   ]
  },
  {
   "cell_type": "code",
   "execution_count": 38,
   "metadata": {
    "scrolled": false
   },
   "outputs": [
    {
     "name": "stdout",
     "output_type": "stream",
     "text": [
      "{\"photos\":[{\"id\":754118,\"sol\":2809,\"camera\":{\"id\":20,\"name\":\"FHAZ\",\"rover_id\":5,\"full_name\":\"Front Hazard Avoidance Camera\"},\"img_src\":\"https://mars.nasa.gov/msl-raw-images/proj/msl/redops/ods/surface/sol/02809/opgs/edr/fcam/FLB_646868981EDR_F0810628FHAZ00337M_.JPG\",\"earth_date\":\"2020-07-01\",\"rover\":{\"id\":5,\"name\":\"Curiosity\",\"landing_date\":\"2012-08-06\",\"launch_date\":\"2011-11-26\",\"status\":\"active\"}},{\"id\":754119,\"sol\":2809,\"camera\":{\"id\":20,\"name\":\"FHAZ\",\"rover_id\":5,\"full_name\":\"Front Hazard Avoidance Camera\"},\"img_src\":\"https://mars.nasa.gov/msl-raw-images/proj/msl/redops/ods/surface/sol/02809/opgs/edr/fcam/FRB_646868981EDR_F0810628FHAZ00337M_.JPG\",\"earth_date\":\"2020-07-01\",\"rover\":{\"id\":5,\"name\":\"Curiosity\",\"landing_date\":\"2012-08-06\",\"launch_date\":\"2011-11-26\",\"status\":\"active\"}},{\"id\":754120,\"sol\":2809,\"camera\":{\"id\":20,\"name\":\"FHAZ\",\"rover_id\":5,\"full_name\":\"Front Hazard Avoidance Camera\"},\"img_src\":\"https://mars.nasa.gov/msl-raw-images/proj/msl/redops/ods/surface/sol/02809/opgs/edr/fcam/FRB_646860144EDR_F0810628FHAZ00337M_.JPG\",\"earth_date\":\"2020-07-01\",\"rover\":{\"id\":5,\"name\":\"Curiosity\",\"landing_date\":\"2012-08-06\",\"launch_date\":\"2011-11-26\",\"status\":\"active\"}},{\"id\":754121,\"sol\":2809,\"camera\":{\"id\":20,\"name\":\"FHAZ\",\"rover_id\":5,\"full_name\":\"Front Hazard Avoidance Camera\"},\"img_src\":\"https://mars.nasa.gov/msl-raw-images/proj/msl/redops/ods/surface/sol/02809/opgs/edr/fcam/FLB_646860144EDR_F0810628FHAZ00337M_.JPG\",\"earth_date\":\"2020-07-01\",\"rover\":{\"id\":5,\"name\":\"Curiosity\",\"landing_date\":\"2012-08-06\",\"launch_date\":\"2011-11-26\",\"status\":\"active\"}},{\"id\":754122,\"sol\":2809,\"camera\":{\"id\":21,\"name\":\"RHAZ\",\"rover_id\":5,\"full_name\":\"Rear Hazard Avoidance Camera\"},\"img_src\":\"https://mars.nasa.gov/msl-raw-images/proj/msl/redops/ods/surface/sol/02809/opgs/edr/rcam/RRB_646869036EDR_F0810628RHAZ00337M_.JPG\",\"earth_date\":\"2020-07-01\",\"rover\":{\"id\":5,\"name\":\"Curiosity\",\"landing_date\":\"2012-08-06\",\"launch_date\":\"2011-11-26\",\"status\":\"active\"}},{\"id\":754123,\"sol\":2809,\"camera\":{\"id\":21,\"name\":\"RHAZ\",\"rover_id\":5,\"full_name\":\"Rear Hazard Avoidance Camera\"},\"img_src\":\"https://mars.nasa.gov/msl-raw-images/proj/msl/redops/ods/surface/sol/02809/opgs/edr/rcam/RLB_646869036EDR_F0810628RHAZ00337M_.JPG\",\"earth_date\":\"2020-07-01\",\"rover\":{\"id\":5,\"name\":\"Curiosity\",\"landing_date\":\"2012-08-06\",\"launch_date\":\"2011-11-26\",\"status\":\"active\"}},{\"id\":754124,\"sol\":2809,\"camera\":{\"id\":21,\"name\":\"RHAZ\",\"rover_id\":5,\"full_name\":\"Rear Hazard Avoidance Camera\"},\"img_src\":\"https://mars.nasa.gov/msl-raw-images/proj/msl/redops/ods/surface/sol/02809/opgs/edr/rcam/RRB_646860185EDR_F0810628RHAZ00337M_.JPG\",\"earth_date\":\"2020-07-01\",\"rover\":{\"id\":5,\"name\":\"Curiosity\",\"landing_date\":\"2012-08-06\",\"launch_date\":\"2011-11-26\",\"status\":\"active\"}},{\"id\":754125,\"sol\":2809,\"camera\":{\"id\":21,\"name\":\"RHAZ\",\"rover_id\":5,\"full_name\":\"Rear Hazard Avoidance Camera\"},\"img_src\":\"https://mars.nasa.gov/msl-raw-images/proj/msl/redops/ods/surface/sol/02809/opgs/edr/rcam/RLB_646860185EDR_F0810628RHAZ00337M_.JPG\",\"earth_date\":\"2020-07-01\",\"rover\":{\"id\":5,\"name\":\"Curiosity\",\"landing_date\":\"2012-08-06\",\"launch_date\":\"2011-11-26\",\"status\":\"active\"}},{\"id\":754126,\"sol\":2809,\"camera\":{\"id\":26,\"name\":\"NAVCAM\",\"rover_id\":5,\"full_name\":\"Navigation Camera\"},\"img_src\":\"https://mars.nasa.gov/msl-raw-images/proj/msl/redops/ods/surface/sol/02809/opgs/edr/ncam/NLB_646869070EDR_F0810628NCAM00229M_.JPG\",\"earth_date\":\"2020-07-01\",\"rover\":{\"id\":5,\"name\":\"Curiosity\",\"landing_date\":\"2012-08-06\",\"launch_date\":\"2011-11-26\",\"status\":\"active\"}},{\"id\":754127,\"sol\":2809,\"camera\":{\"id\":26,\"name\":\"NAVCAM\",\"rover_id\":5,\"full_name\":\"Navigation Camera\"},\"img_src\":\"https://mars.nasa.gov/msl-raw-images/proj/msl/redops/ods/surface/sol/02809/opgs/edr/ncam/NLB_646860211EDR_F0810628NCAM00229M_.JPG\",\"earth_date\":\"2020-07-01\",\"rover\":{\"id\":5,\"name\":\"Curiosity\",\"landing_date\":\"2012-08-06\",\"launch_date\":\"2011-11-26\",\"status\":\"active\"}},{\"id\":754128,\"sol\":2809,\"camera\":{\"id\":26,\"name\":\"NAVCAM\",\"rover_id\":5,\"full_name\":\"Navigation Camera\"},\"img_src\":\"https://mars.nasa.gov/msl-raw-images/proj/msl/redops/ods/surface/sol/02809/opgs/edr/ncam/NRB_646869070EDR_F0810628NCAM00229M_.JPG\",\"earth_date\":\"2020-07-01\",\"rover\":{\"id\":5,\"name\":\"Curiosity\",\"landing_date\":\"2012-08-06\",\"launch_date\":\"2011-11-26\",\"status\":\"active\"}},{\"id\":754129,\"sol\":2809,\"camera\":{\"id\":26,\"name\":\"NAVCAM\",\"rover_id\":5,\"full_name\":\"Navigation Camera\"},\"img_src\":\"https://mars.nasa.gov/msl-raw-images/proj/msl/redops/ods/surface/sol/02809/opgs/edr/ncam/NRB_646860211EDR_F0810628NCAM00229M_.JPG\",\"earth_date\":\"2020-07-01\",\"rover\":{\"id\":5,\"name\":\"Curiosity\",\"landing_date\":\"2012-08-06\",\"launch_date\":\"2011-11-26\",\"status\":\"active\"}}]}\n"
     ]
    }
   ],
   "source": [
    "#Make a request to nasa website for image with the DEMO_KEY\n",
    "#endpoint is : https://api.nasa.gov/mars-photos/api/v1/rovers/curiosity/photos\n",
    "# use also a query parameter : \"earth_date\": \"2020-07-01\"\n",
    "query_param = {\n",
    "    \"api_key\" : \"DEMO_KEY\",\n",
    "    \"earth_date\": \"2020-07-01\"\n",
    "}\n",
    "\n",
    "resp = requests.get('https://api.nasa.gov/mars-photos/api/v1/rovers/curiosity/photos', params = query_param)\n",
    "print(resp.text)"
   ]
  },
  {
   "cell_type": "code",
   "execution_count": 45,
   "metadata": {},
   "outputs": [
    {
     "name": "stdout",
     "output_type": "stream",
     "text": [
      "https://mars.nasa.gov/msl-raw-images/proj/msl/redops/ods/surface/sol/02809/opgs/edr/fcam/FLB_646868981EDR_F0810628FHAZ00337M_.JPG\n",
      "https://mars.nasa.gov/msl-raw-images/proj/msl/redops/ods/surface/sol/02809/opgs/edr/fcam/FRB_646868981EDR_F0810628FHAZ00337M_.JPG\n",
      "https://mars.nasa.gov/msl-raw-images/proj/msl/redops/ods/surface/sol/02809/opgs/edr/fcam/FRB_646860144EDR_F0810628FHAZ00337M_.JPG\n",
      "https://mars.nasa.gov/msl-raw-images/proj/msl/redops/ods/surface/sol/02809/opgs/edr/fcam/FLB_646860144EDR_F0810628FHAZ00337M_.JPG\n",
      "https://mars.nasa.gov/msl-raw-images/proj/msl/redops/ods/surface/sol/02809/opgs/edr/rcam/RRB_646869036EDR_F0810628RHAZ00337M_.JPG\n",
      "https://mars.nasa.gov/msl-raw-images/proj/msl/redops/ods/surface/sol/02809/opgs/edr/rcam/RLB_646869036EDR_F0810628RHAZ00337M_.JPG\n",
      "https://mars.nasa.gov/msl-raw-images/proj/msl/redops/ods/surface/sol/02809/opgs/edr/rcam/RRB_646860185EDR_F0810628RHAZ00337M_.JPG\n",
      "https://mars.nasa.gov/msl-raw-images/proj/msl/redops/ods/surface/sol/02809/opgs/edr/rcam/RLB_646860185EDR_F0810628RHAZ00337M_.JPG\n",
      "https://mars.nasa.gov/msl-raw-images/proj/msl/redops/ods/surface/sol/02809/opgs/edr/ncam/NLB_646869070EDR_F0810628NCAM00229M_.JPG\n",
      "https://mars.nasa.gov/msl-raw-images/proj/msl/redops/ods/surface/sol/02809/opgs/edr/ncam/NLB_646860211EDR_F0810628NCAM00229M_.JPG\n",
      "https://mars.nasa.gov/msl-raw-images/proj/msl/redops/ods/surface/sol/02809/opgs/edr/ncam/NRB_646869070EDR_F0810628NCAM00229M_.JPG\n",
      "https://mars.nasa.gov/msl-raw-images/proj/msl/redops/ods/surface/sol/02809/opgs/edr/ncam/NRB_646860211EDR_F0810628NCAM00229M_.JPG\n"
     ]
    }
   ],
   "source": [
    "#get only the url of the photos\n",
    "for i in resp.json()['photos']:\n",
    "    print(i['img_src'])"
   ]
  },
  {
   "cell_type": "code",
   "execution_count": 49,
   "metadata": {},
   "outputs": [],
   "source": [
    "# YOUR TURN\n",
    "# with the previous code (to save jpg into file), loop on all the photos and save them in your computer\n",
    "# 15 minutes\n",
    "\n",
    "query_param = {\n",
    "    \"api_key\" : \"DEMO_KEY\",\n",
    "    \"earth_date\": \"2020-07-01\"\n",
    "}\n",
    "\n",
    "resp = requests.get('https://api.nasa.gov/mars-photos/api/v1/rovers/curiosity/photos', params = query_param)\n",
    "for index, data in enumerate(resp.json()['photos']):\n",
    "    resp2 = requests.get(data['img_src'])\n",
    "    with open(r\"D:\\KBTU\\2022-2023\\Python Course\\Course\\Lecture\\Lecture_4\\photo_curio_\"+ str(index) +\".jpg\", 'wb') as file:\n",
    "        file.write(resp2.content)"
   ]
  },
  {
   "cell_type": "code",
   "execution_count": 58,
   "metadata": {},
   "outputs": [
    {
     "name": "stdout",
     "output_type": "stream",
     "text": [
      "{'status': 'ERROR', 'request_id': '6cfd94e5fed9e70f9143dea801df37e0', 'error': \"You've exceeded the maximum requests per minute, please wait or upgrade your subscription to continue. https://polygon.io/pricing\"}\n"
     ]
    }
   ],
   "source": [
    "#Make a API request on polygon.io\n",
    "\n",
    "url = \"https://api.polygon.io/v2/aggs/ticker/TSLA/range/1/minute/2021-07-22/2021-09-22?sort=asc&limit=5000&apiKey=lFm05uiT4LHXMiZbEQzcTCmnwZpWAJXU\"\n",
    "resp = requests.get(url)\n",
    "print(resp.json())"
   ]
  },
  {
   "cell_type": "code",
   "execution_count": null,
   "metadata": {},
   "outputs": [],
   "source": []
  }
 ],
 "metadata": {
  "kernelspec": {
   "display_name": "Python 3",
   "language": "python",
   "name": "python3"
  },
  "language_info": {
   "codemirror_mode": {
    "name": "ipython",
    "version": 3
   },
   "file_extension": ".py",
   "mimetype": "text/x-python",
   "name": "python",
   "nbconvert_exporter": "python",
   "pygments_lexer": "ipython3",
   "version": "3.10.1"
  },
  "vscode": {
   "interpreter": {
    "hash": "df95319d8ce4e1d89f5365ae10992bc1f65da593082b1d264e8f529830ec2f02"
   }
  }
 },
 "nbformat": 4,
 "nbformat_minor": 4
}
