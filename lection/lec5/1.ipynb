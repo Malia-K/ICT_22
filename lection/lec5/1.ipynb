{
 "cells": [
  {
   "cell_type": "markdown",
   "metadata": {},
   "source": [
    "scrapping - when your program go directly on website and download data;\n",
    "\n",
    "web scrapping is the process of using bots to extract content and data from website\n",
    "\n",
    "3 types:\n",
    "1) just scrap one specific page; (xml or html parcer)\n",
    "2) allowed human interaction: browser based robot) \n",
    "3)whole scrapping without human interaction: a spyder robot;(scrapping everything(data. photo. links. etc.))\n",
    "\n",
    "\n"
   ]
  },
  {
   "cell_type": "code",
   "execution_count": null,
   "metadata": {},
   "outputs": [],
   "source": [
    "import requests\n",
    "url = \"https://ajax.googleapis.com/ajax/libs/jquery/1.8.2/jquery.min.js\"\n",
    "\n",
    "resp = requests.get(url)\n",
    "print(resp.text)"
   ]
  },
  {
   "cell_type": "code",
   "execution_count": null,
   "metadata": {},
   "outputs": [],
   "source": [
    "headers = {\"User-Agent: Mozilla/5.0 (Windows NT 10.0; Win64; x64) AppleWebKit/537.36 (KHTML, like Gecko) Chrome/106.0.0.0 Safari/537.36\"}\n",
    "url = 'https://www.python.org/static/js/libs/modernizr.js'\n",
    "resp = requests.get(url, headers=headers)\n",
    "print(resp.content)"
   ]
  },
  {
   "cell_type": "code",
   "execution_count": null,
   "metadata": {},
   "outputs": [],
   "source": [
    "import requests\n",
    "url = \"https://query1.finance.yahoo.com/v7/finance/download/CSCO?period1=1633377893&period2=1664913893&interval=1d&events=history&includeAdjustedClose=true\"\n",
    "headers = {\"user-agent\" : \"Mozilla/5.0 (Windows NT 10.0; Win64; x64) AppleWebKit/537.36 (KHTML, like Gecko) Chrome/106.0.0.0 Safari/537.36\"}\n",
    "resp = requests.get(url, headers=headers)\n",
    "\n",
    "print(resp.content)"
   ]
  },
  {
   "cell_type": "code",
   "execution_count": null,
   "metadata": {},
   "outputs": [],
   "source": [
    "import requests\n",
    "import datetime\n",
    "import csv\n",
    "\n",
    "\n",
    "origin = datetime.datetime(1970,1,1)\n",
    "begin = datetime.datetime(1986,12,16)\n",
    "\n",
    "delta = begin - origin\n",
    "# params = \n",
    "url = \"https://query1.finance.yahoo.com/v7/finance/download/CSCO\"\n",
    "headers = {\"user-agent\" : \"Mozilla/5.0 (Windows NT 10.0; Win64; x64) AppleWebKit/537.36 (KHTML, like Gecko) Chrome/106.0.0.0 Safari/537.36\"}\n",
    "resp = requests.get(url, headers=headers)\n",
    "\n",
    "print(resp.content)"
   ]
  }
 ],
 "metadata": {
  "kernelspec": {
   "display_name": "Python 3.10.1 64-bit",
   "language": "python",
   "name": "python3"
  },
  "language_info": {
   "codemirror_mode": {
    "name": "ipython",
    "version": 3
   },
   "file_extension": ".py",
   "mimetype": "text/x-python",
   "name": "python",
   "nbconvert_exporter": "python",
   "pygments_lexer": "ipython3",
   "version": "3.10.1 (tags/v3.10.1:2cd268a, Dec  6 2021, 19:10:37) [MSC v.1929 64 bit (AMD64)]"
  },
  "orig_nbformat": 4,
  "vscode": {
   "interpreter": {
    "hash": "df95319d8ce4e1d89f5365ae10992bc1f65da593082b1d264e8f529830ec2f02"
   }
  }
 },
 "nbformat": 4,
 "nbformat_minor": 2
}
