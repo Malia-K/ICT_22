{
 "cells": [
  {
   "cell_type": "markdown",
   "metadata": {},
   "source": [
    "DATAFFRAME && PANDAS"
   ]
  },
  {
   "cell_type": "code",
   "execution_count": 2,
   "metadata": {},
   "outputs": [
    {
     "name": "stdout",
     "output_type": "stream",
     "text": [
      "  name surname  age\n",
      "0  bob     fdg   18\n",
      "1   df    dfgd   26\n"
     ]
    }
   ],
   "source": [
    "import pandas as pd\n",
    "\n",
    "name= [\"bob\", \"df\"]\n",
    "sname = [\"fdg\", \"dfgd\"]\n",
    "age = [18, 26]\n",
    "\n",
    "dictio = {\"name\" : name, \"surname\": sname, \"age\" : age}\n",
    "\n",
    "df= pd.DataFrame(dictio)\n",
    "print(df)"
   ]
  },
  {
   "cell_type": "code",
   "execution_count": 5,
   "metadata": {},
   "outputs": [
    {
     "name": "stdout",
     "output_type": "stream",
     "text": [
      "0    bob\n",
      "1     df\n",
      "Name: name, dtype: object\n",
      "df\n"
     ]
    }
   ],
   "source": [
    "print(df[\"name\"])\n",
    "print(df[\"name\"][1])"
   ]
  },
  {
   "cell_type": "code",
   "execution_count": 1,
   "metadata": {},
   "outputs": [
    {
     "name": "stdout",
     "output_type": "stream",
     "text": [
      "Empty DataFrame\n",
      "Columns: []\n",
      "Index: []\n"
     ]
    }
   ],
   "source": [
    "import pandas as pd\n",
    "\n",
    "df1= pd.DataFrame()\n",
    "\n",
    "player = [\"Sasuke\", \"Itachi\", \"Naruto\"]\n",
    "idOfPlayer = [7, 18, 9]\n",
    "status = [\"alive\", \"dead\", \"alive\"]\n",
    "\n",
    "dictio1 = {\"player\" : player, \"id\" : idOfPlayer, \"status\" : status}\n",
    "\n",
    "# df1 = df1.append(dictio1, ignore_index=True)\n",
    "\n",
    "\n",
    "# df1.insert(0, \"player\", player)\n",
    "# df1.insert(1, \"id\", idOfPlayer)\n",
    "# df1.insert(2, \"status\", status)\n",
    "\n",
    "print(df1)"
   ]
  },
  {
   "cell_type": "code",
   "execution_count": null,
   "metadata": {},
   "outputs": [],
   "source": []
  }
 ],
 "metadata": {
  "kernelspec": {
   "display_name": "Python 3.10.1 64-bit",
   "language": "python",
   "name": "python3"
  },
  "language_info": {
   "codemirror_mode": {
    "name": "ipython",
    "version": 3
   },
   "file_extension": ".py",
   "mimetype": "text/x-python",
   "name": "python",
   "nbconvert_exporter": "python",
   "pygments_lexer": "ipython3",
   "version": "3.10.1"
  },
  "orig_nbformat": 4,
  "vscode": {
   "interpreter": {
    "hash": "df95319d8ce4e1d89f5365ae10992bc1f65da593082b1d264e8f529830ec2f02"
   }
  }
 },
 "nbformat": 4,
 "nbformat_minor": 2
}
