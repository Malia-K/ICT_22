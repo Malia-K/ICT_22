{
 "cells": [
  {
   "cell_type": "code",
   "execution_count": null,
   "metadata": {},
   "outputs": [],
   "source": []
  },
  {
   "cell_type": "code",
   "execution_count": 8,
   "metadata": {},
   "outputs": [
    {
     "name": "stdout",
     "output_type": "stream",
     "text": [
      "            Date  Open price  High price  Low price  Close price  \\\n",
      "0     1990-02-16    0.000000    0.079861   0.073785     0.077257   \n",
      "1     1990-02-20    0.000000    0.079861   0.074653     0.079861   \n",
      "2     1990-02-21    0.000000    0.078993   0.075521     0.078125   \n",
      "3     1990-02-22    0.000000    0.081597   0.078993     0.078993   \n",
      "4     1990-02-23    0.000000    0.079861   0.078125     0.078559   \n",
      "...          ...         ...         ...        ...          ...   \n",
      "8197  2022-08-31   45.779999   45.830002  44.590000    44.720001   \n",
      "8198  2022-09-01   44.570000   45.340000  44.400002    45.290001   \n",
      "8199  2022-09-02   45.709999   45.919998  44.279999    44.590000   \n",
      "8200  2022-09-06   44.660000   44.790001  43.980000    44.470001   \n",
      "8201  2022-09-07   44.750000   45.169998  44.349998    45.020000   \n",
      "\n",
      "      Adjacted close price  Volume exchanged  \n",
      "0                 0.055372         940636800  \n",
      "1                 0.057238         151862400  \n",
      "2                 0.055994          70531200  \n",
      "3                 0.056616          45216000  \n",
      "4                 0.056305          44697600  \n",
      "...                    ...               ...  \n",
      "8197             44.720001          23006100  \n",
      "8198             45.290001          16236400  \n",
      "8199             44.590000          14720400  \n",
      "8200             44.470001          14366100  \n",
      "8201             45.020000          18289500  \n",
      "\n",
      "[8202 rows x 7 columns]\n"
     ]
    }
   ],
   "source": [
    "import pandas as pd\n",
    "\n",
    "columnNames = [\"Date\", \"Open price\", \"High price\", \"Low price\", \"Close price\", \"Adjacted close price\", \"Volume exchanged\"]\n",
    "\n",
    "df= pd.read_csv(\"CSCO.csv\", names = columnNames, header = None, skiprows=1)\n",
    "\n",
    "print(df)"
   ]
  },
  {
   "cell_type": "code",
   "execution_count": 4,
   "metadata": {},
   "outputs": [
    {
     "name": "stdout",
     "output_type": "stream",
     "text": [
      "50.986111162698414\n",
      "           Date    Volume       High\n",
      "7835 2021-03-25  34537700  51.400002\n",
      "7836 2021-03-26  31997000  52.639999\n",
      "7837 2021-03-29  25032800  52.939999\n",
      "7838 2021-03-30  22465100  52.290001\n",
      "7839 2021-03-31  22212400  52.049999\n",
      "...         ...       ...        ...\n",
      "8026 2021-12-27  14779700  63.470001\n",
      "8027 2021-12-28  12865000  63.840000\n",
      "8028 2021-12-29  15069900  64.290001\n",
      "8029 2021-12-30   9076700  64.139999\n",
      "8030 2021-12-31  10359100  63.820000\n",
      "\n",
      "[196 rows x 3 columns]\n"
     ]
    }
   ],
   "source": [
    "\n",
    "import pandas as pd\n",
    "import datetime\n",
    "\n",
    "df= pd.read_csv(r\"C:\\Users\\USER\\Desktop\\ICT\\code\\lec2\\CSCO.csv\", parse_dates=[0])\n",
    "\n",
    "date_begin_mean = datetime.datetime(year = 2019, month = 1, day = 1)\n",
    "date_end_mean = datetime.datetime(year = 2020, month = 1, day = 1)\n",
    "\n",
    "mean = df[ (df['Date'] > date_begin_mean) & (df['Date'] < date_end_mean) ]['High'].mean()\n",
    "print(mean)\n",
    "\n",
    "date_begin = datetime.datetime(year = 2021, month = 1, day = 1)\n",
    "date_end = datetime.datetime(year = 2022, month = 1, day = 1)\n",
    "\n",
    "df = df[ (df['Date'] > date_begin) & (df['Date'] < date_end) & (df['High'] > mean)]\n",
    "df = df.loc[:, ['Date', 'Volume', 'High']]\n",
    "\n",
    "\n",
    "print(df)\n",
    "\n"
   ]
  }
 ],
 "metadata": {
  "kernelspec": {
   "display_name": "Python 3.10.1 64-bit",
   "language": "python",
   "name": "python3"
  },
  "language_info": {
   "codemirror_mode": {
    "name": "ipython",
    "version": 3
   },
   "file_extension": ".py",
   "mimetype": "text/x-python",
   "name": "python",
   "nbconvert_exporter": "python",
   "pygments_lexer": "ipython3",
   "version": "3.10.1"
  },
  "orig_nbformat": 4,
  "vscode": {
   "interpreter": {
    "hash": "df95319d8ce4e1d89f5365ae10992bc1f65da593082b1d264e8f529830ec2f02"
   }
  }
 },
 "nbformat": 4,
 "nbformat_minor": 2
}
