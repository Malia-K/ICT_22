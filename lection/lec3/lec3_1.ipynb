{
 "cells": [
  {
   "cell_type": "code",
   "execution_count": 2,
   "metadata": {},
   "outputs": [
    {
     "name": "stdout",
     "output_type": "stream",
     "text": [
      "    Brand  Taste Sugar_Content\n",
      "0    Coca      5          high\n",
      "1   Pepsi      6          high\n",
      "2  Sprite      9          high\n",
      "3   Water      8           low\n"
     ]
    }
   ],
   "source": [
    "import pandas as pd\n",
    "brand = ['Coca', 'Pepsi', 'Sprite', 'Water']\n",
    "taste = [5, 6, 9, 8]\n",
    "sugar_content = ['high','high','high', 'low']\n",
    "\n",
    "dictio = {\n",
    "    \"Brand\" : brand, \n",
    "    \"Taste\" : taste, \n",
    "    \"Sugar_Content\" : sugar_content\n",
    "}\n",
    "\n",
    "df = pd.DataFrame(dictio);\n",
    "print(df)"
   ]
  },
  {
   "cell_type": "code",
   "execution_count": 5,
   "metadata": {},
   "outputs": [
    {
     "name": "stdout",
     "output_type": "stream",
     "text": [
      "            Date       Open       High        Low      Close  Adj Close  \\\n",
      "0     1990-02-16   0.000000   0.079861   0.073785   0.077257   0.055372   \n",
      "1     1990-02-20   0.000000   0.079861   0.074653   0.079861   0.057238   \n",
      "2     1990-02-21   0.000000   0.078993   0.075521   0.078125   0.055994   \n",
      "3     1990-02-22   0.000000   0.081597   0.078993   0.078993   0.056616   \n",
      "4     1990-02-23   0.000000   0.079861   0.078125   0.078559   0.056305   \n",
      "...          ...        ...        ...        ...        ...        ...   \n",
      "8197  2022-08-31  45.779999  45.830002  44.590000  44.720001  44.720001   \n",
      "8198  2022-09-01  44.570000  45.340000  44.400002  45.290001  45.290001   \n",
      "8199  2022-09-02  45.709999  45.919998  44.279999  44.590000  44.590000   \n",
      "8200  2022-09-06  44.660000  44.790001  43.980000  44.470001  44.470001   \n",
      "8201  2022-09-07  44.750000  45.169998  44.349998  45.020000  45.020000   \n",
      "\n",
      "         Volume  \n",
      "0     940636800  \n",
      "1     151862400  \n",
      "2      70531200  \n",
      "3      45216000  \n",
      "4      44697600  \n",
      "...         ...  \n",
      "8197   23006100  \n",
      "8198   16236400  \n",
      "8199   14720400  \n",
      "8200   14366100  \n",
      "8201   18289500  \n",
      "\n",
      "[8202 rows x 7 columns]\n"
     ]
    }
   ],
   "source": [
    "import csv\n",
    "import pandas as pd\n",
    "\n",
    "with open( r\"C:\\Users\\USER\\Desktop\\ICT\\code\\lec3\\CSCO.csv\", \"r\") as file:\n",
    "    csvfile = csv.DictReader(file)\n",
    "    df = pd.DataFrame(csvfile)\n",
    "\n",
    "print(df)"
   ]
  },
  {
   "cell_type": "code",
   "execution_count": null,
   "metadata": {},
   "outputs": [],
   "source": []
  },
  {
   "cell_type": "code",
   "execution_count": 14,
   "metadata": {},
   "outputs": [
    {
     "name": "stdout",
     "output_type": "stream",
     "text": [
      "    Brand  Taste Sugar_Content\n",
      "0    Coca      5          high\n",
      "1   Pepsi      6          high\n",
      "2  Sprite      9          high\n",
      "3   Water      8           low\n"
     ]
    }
   ],
   "source": [
    "import pandas as pd\n",
    "brand = ['Coca', 'Pepsi', 'Sprite', 'Water']\n",
    "taste = [5, 6, 9, 8]\n",
    "sugar_content = ['high','high','high', 'low']\n",
    "\n",
    "name = [\"Brand\", \"Taste\", \"Sugar_Content\"]\n",
    "\n",
    "data = list(zip(brand, taste, sugar_content))\n",
    "\n",
    "df = pd.DataFrame(data, columns=name)\n",
    "print(df)"
   ]
  },
  {
   "cell_type": "code",
   "execution_count": 11,
   "metadata": {},
   "outputs": [
    {
     "name": "stdout",
     "output_type": "stream",
     "text": [
      "[(1, 'a', 'g'), (2, 'b', 'h'), (3, 'c', 'b')]\n"
     ]
    }
   ],
   "source": [
    "#ZIP FUNCTION\n",
    "list0 = [1,2,3]\n",
    "list1 = ['a','b','c']\n",
    "list2 = ['g','h','b']\n",
    "\n",
    "data = list(zip(list0, list1, list2))\n",
    "print(data)\n"
   ]
  },
  {
   "cell_type": "code",
   "execution_count": 19,
   "metadata": {},
   "outputs": [
    {
     "name": "stdout",
     "output_type": "stream",
     "text": [
      "            Date       Open       High        Low      Close  Adj Close  \\\n",
      "0     1990-02-16   0.000000   0.079861   0.073785   0.077257   0.055372   \n",
      "1     1990-02-20   0.000000   0.079861   0.074653   0.079861   0.057238   \n",
      "2     1990-02-21   0.000000   0.078993   0.075521   0.078125   0.055994   \n",
      "3     1990-02-22   0.000000   0.081597   0.078993   0.078993   0.056616   \n",
      "4     1990-02-23   0.000000   0.079861   0.078125   0.078559   0.056305   \n",
      "...          ...        ...        ...        ...        ...        ...   \n",
      "8197  2022-08-31  45.779999  45.830002  44.590000  44.720001  44.720001   \n",
      "8198  2022-09-01  44.570000  45.340000  44.400002  45.290001  45.290001   \n",
      "8199  2022-09-02  45.709999  45.919998  44.279999  44.590000  44.590000   \n",
      "8200  2022-09-06  44.660000  44.790001  43.980000  44.470001  44.470001   \n",
      "8201  2022-09-07  44.750000  45.169998  44.349998  45.020000  45.020000   \n",
      "\n",
      "         Volume  \n",
      "0     940636800  \n",
      "1     151862400  \n",
      "2      70531200  \n",
      "3      45216000  \n",
      "4      44697600  \n",
      "...         ...  \n",
      "8197   23006100  \n",
      "8198   16236400  \n",
      "8199   14720400  \n",
      "8200   14366100  \n",
      "8201   18289500  \n",
      "\n",
      "[8202 rows x 7 columns]\n"
     ]
    }
   ],
   "source": [
    "import csv\n",
    "import pandas as pd\n",
    "\n",
    "with open( r\"C:\\Users\\USER\\Desktop\\ICT\\code\\lec3\\CSCO.csv\", \"r\") as file:\n",
    "    csvfile = csv.reader(file)\n",
    "    columns_name = csvfile.__next__()\n",
    "    df = pd.DataFrame(csvfile,  columns= columns_name)\n",
    "\n",
    "print(df)"
   ]
  },
  {
   "cell_type": "markdown",
   "metadata": {},
   "source": [
    "##MODIFY DATAFRAME"
   ]
  },
  {
   "cell_type": "code",
   "execution_count": 22,
   "metadata": {},
   "outputs": [
    {
     "name": "stdout",
     "output_type": "stream",
     "text": [
      "       Date_Time      Open       High       Low      Close Adj Close  \\\n",
      "0     1990-02-16  0.000000   0.079861  0.073785   0.077257  0.055372   \n",
      "22    1990-03-21  0.000000   0.085069  0.082465   0.083333  0.059727   \n",
      "21    1990-03-20  0.000000   0.091146  0.082465   0.082465  0.059105   \n",
      "20    1990-03-19  0.000000   0.091146  0.085069   0.090278  0.064705   \n",
      "19    1990-03-16  0.000000   0.087674  0.085938   0.087674  0.062838   \n",
      "...          ...       ...        ...       ...        ...       ...   \n",
      "1975  1997-12-09  9.875000   9.888889  9.625000   9.715278  6.963193   \n",
      "1974  1997-12-08  9.923611  10.000000  9.861111   9.972222  7.147351   \n",
      "2008  1998-01-28  9.979167  10.395833  9.947917  10.312500  7.391240   \n",
      "3186  2002-10-04  9.980000  10.130000  9.420000   9.460000  6.780230   \n",
      "3185  2002-10-03  9.980000  10.150000  9.670000   9.810000  7.031082   \n",
      "\n",
      "         Volume  \n",
      "0     940636800  \n",
      "22     19900800  \n",
      "21     43228800  \n",
      "20     43027200  \n",
      "19     19929600  \n",
      "...         ...  \n",
      "1975   78193800  \n",
      "1974   41416200  \n",
      "2008  104662200  \n",
      "3186  103389600  \n",
      "3185  137709000  \n",
      "\n",
      "[8202 rows x 7 columns]\n"
     ]
    }
   ],
   "source": [
    "df = df.rename(columns= {'Date' : \"Date_Time\"})\n",
    "print(df)"
   ]
  },
  {
   "cell_type": "code",
   "execution_count": 23,
   "metadata": {},
   "outputs": [
    {
     "name": "stdout",
     "output_type": "stream",
     "text": [
      "       Date_Time      Open       High       Low      Close Adj Close  \\\n",
      "0     1990-02-16  0.000000   0.079861  0.073785   0.077257  0.055372   \n",
      "24    1990-03-23  0.000000   0.082465  0.078125   0.080729  0.057861   \n",
      "11    1990-03-06  0.000000   0.081597  0.078993   0.079861  0.057238   \n",
      "1     1990-02-20  0.000000   0.079861  0.074653   0.079861  0.057238   \n",
      "2     1990-02-21  0.000000   0.078993  0.075521   0.078125  0.055994   \n",
      "...          ...       ...        ...       ...        ...       ...   \n",
      "1975  1997-12-09  9.875000   9.888889  9.625000   9.715278  6.963193   \n",
      "1974  1997-12-08  9.923611  10.000000  9.861111   9.972222  7.147351   \n",
      "2008  1998-01-28  9.979167  10.395833  9.947917  10.312500  7.391240   \n",
      "3186  2002-10-04  9.980000  10.130000  9.420000   9.460000  6.780230   \n",
      "3185  2002-10-03  9.980000  10.150000  9.670000   9.810000  7.031082   \n",
      "\n",
      "         Volume  \n",
      "0     940636800  \n",
      "24     16905600  \n",
      "11     23904000  \n",
      "1     151862400  \n",
      "2      70531200  \n",
      "...         ...  \n",
      "1975   78193800  \n",
      "1974   41416200  \n",
      "2008  104662200  \n",
      "3186  103389600  \n",
      "3185  137709000  \n",
      "\n",
      "[8202 rows x 7 columns]\n"
     ]
    }
   ],
   "source": [
    "df = df.sort_values(\"Open\")\n",
    "print(df)"
   ]
  },
  {
   "cell_type": "code",
   "execution_count": 24,
   "metadata": {},
   "outputs": [
    {
     "name": "stdout",
     "output_type": "stream",
     "text": [
      "                 Open       High        Low      Close  Adj Close     Volume\n",
      "Date                                                                        \n",
      "1990-02-16   0.000000   0.079861   0.073785   0.077257   0.055372  940636800\n",
      "1990-02-20   0.000000   0.079861   0.074653   0.079861   0.057238  151862400\n",
      "1990-02-21   0.000000   0.078993   0.075521   0.078125   0.055994   70531200\n",
      "1990-02-22   0.000000   0.081597   0.078993   0.078993   0.056616   45216000\n",
      "1990-02-23   0.000000   0.079861   0.078125   0.078559   0.056305   44697600\n",
      "...               ...        ...        ...        ...        ...        ...\n",
      "2022-08-31  45.779999  45.830002  44.590000  44.720001  44.720001   23006100\n",
      "2022-09-01  44.570000  45.340000  44.400002  45.290001  45.290001   16236400\n",
      "2022-09-02  45.709999  45.919998  44.279999  44.590000  44.590000   14720400\n",
      "2022-09-06  44.660000  44.790001  43.980000  44.470001  44.470001   14366100\n",
      "2022-09-07  44.750000  45.169998  44.349998  45.020000  45.020000   18289500\n",
      "\n",
      "[8202 rows x 6 columns]\n"
     ]
    }
   ],
   "source": [
    "import csv\n",
    "import pandas as pd\n",
    "\n",
    "with open( r\"C:\\Users\\USER\\Desktop\\ICT\\code\\lec3\\CSCO.csv\", \"r\") as file:\n",
    "    csvfile = csv.reader(file)\n",
    "    columns_name = csvfile.__next__()\n",
    "    df = pd.DataFrame(csvfile,  columns= columns_name)\n",
    "\n",
    "df = df.set_index(\"Date\")\n",
    "\n",
    "print(df)"
   ]
  },
  {
   "cell_type": "code",
   "execution_count": null,
   "metadata": {},
   "outputs": [],
   "source": [
    "%timeit "
   ]
  },
  {
   "cell_type": "code",
   "execution_count": 31,
   "metadata": {},
   "outputs": [
    {
     "name": "stderr",
     "output_type": "stream",
     "text": [
      "\n",
      "KeyboardInterrupt\n",
      "\n"
     ]
    }
   ],
   "source": [
    "import csv\n",
    "import pandas as pd\n",
    "\n",
    "with open( r\"C:\\Users\\USER\\Desktop\\ICT\\code\\lec3\\CSCO.csv\", \"r\") as file:\n",
    "    csvfile = csv.reader(file)\n",
    "    columns_name = csvfile.__next__()\n",
    "    df = pd.DataFrame(csvfile,  columns= columns_name)\n",
    "\n",
    "# print(df)\n",
    "\n",
    "%timeit a = df[df[\"Open\"]]"
   ]
  }
 ],
 "metadata": {
  "kernelspec": {
   "display_name": "Python 3.10.1 64-bit",
   "language": "python",
   "name": "python3"
  },
  "language_info": {
   "codemirror_mode": {
    "name": "ipython",
    "version": 3
   },
   "file_extension": ".py",
   "mimetype": "text/x-python",
   "name": "python",
   "nbconvert_exporter": "python",
   "pygments_lexer": "ipython3",
   "version": "3.10.1 (tags/v3.10.1:2cd268a, Dec  6 2021, 19:10:37) [MSC v.1929 64 bit (AMD64)]"
  },
  "orig_nbformat": 4,
  "vscode": {
   "interpreter": {
    "hash": "df95319d8ce4e1d89f5365ae10992bc1f65da593082b1d264e8f529830ec2f02"
   }
  }
 },
 "nbformat": 4,
 "nbformat_minor": 2
}
