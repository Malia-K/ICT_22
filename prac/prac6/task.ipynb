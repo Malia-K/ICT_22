{
 "cells": [
  {
   "cell_type": "code",
   "execution_count": 29,
   "metadata": {},
   "outputs": [],
   "source": [
    "import requests\n",
    "from bs4 import BeautifulSoup\n",
    "import datetime\n",
    "\n",
    "import pandas as pd\n",
    "\n",
    "resp = requests.get(\"https://news.google.com/search?q=cisco\")\n",
    "\n",
    "soup = BeautifulSoup(resp.content)\n"
   ]
  },
  {
   "cell_type": "code",
   "execution_count": 4,
   "metadata": {},
   "outputs": [
    {
     "name": "stdout",
     "output_type": "stream",
     "text": [
      "New partnership brings Microsoft Teams to Cisco meeting room devices - Stories\n"
     ]
    }
   ],
   "source": [
    "\n",
    "print(soup.find_all('a', class_ = 'DY5T1d RZIKme')[0].text)"
   ]
  },
  {
   "cell_type": "code",
   "execution_count": 10,
   "metadata": {},
   "outputs": [
    {
     "name": "stdout",
     "output_type": "stream",
     "text": [
      "./articles/CBMia2h0dHBzOi8vbmV3cy5taWNyb3NvZnQuY29tLzIwMjIvMTAvMTIvbmV3LXBhcnRuZXJzaGlwLWJyaW5ncy1taWNyb3NvZnQtdGVhbXMtdG8tY2lzY28tbWVldGluZy1yb29tLWRldmljZXMv0gEA?hl=en-US&gl=US&ceid=US%3Aen\n"
     ]
    }
   ],
   "source": [
    "print(soup.find_all('a', class_ = 'DY5T1d RZIKme')[0].get('href'))"
   ]
  },
  {
   "cell_type": "code",
   "execution_count": 11,
   "metadata": {},
   "outputs": [
    {
     "name": "stdout",
     "output_type": "stream",
     "text": [
      "<time class=\"WW6dff uQIVzc Sksgp slhocf\" datetime=\"2022-10-12T16:02:17Z\">17 hours ago</time>\n"
     ]
    }
   ],
   "source": [
    "print(soup.find_all('time', class_ = 'WW6dff uQIVzc Sksgp slhocf')[0])"
   ]
  },
  {
   "cell_type": "code",
   "execution_count": 30,
   "metadata": {},
   "outputs": [
    {
     "name": "stdout",
     "output_type": "stream",
     "text": [
      "                                                 Title  \\\n",
      "0    New partnership brings Microsoft Teams to Cisc...   \n",
      "1    Cisco partners with Microsoft to add Teams to ...   \n",
      "2    Move Over Webex: Microsoft Teams To Be Availab...   \n",
      "3    Cisco To Build Devices Certified For Microsoft...   \n",
      "4    Microsoft to Certify Cisco Hardware for Teams ...   \n",
      "..                                                 ...   \n",
      "98   Cisco faces a $14B backlog thanks to component...   \n",
      "99   Cisco Partners ‘Weathering The Storm’ Until $1...   \n",
      "100             Cisco service predicts SD-WAN problems   \n",
      "101  Cisco adds tools to enable predictive, unified...   \n",
      "102  Telefónica Tech and Cisco partner on SD-WAN, s...   \n",
      "\n",
      "                                                  Link       Date_and_time  \n",
      "0    ./articles/CBMia2h0dHBzOi8vbmV3cy5taWNyb3NvZnQ... 2022-10-12 16:02:17  \n",
      "1    ./articles/CAIiENcxgAOLAhOroOrZXjuOC0kqFggEKg0... 2022-10-12 10:25:01  \n",
      "2    ./articles/CBMibGh0dHBzOi8vd3d3LmNybi5jb20vbmV... 2022-10-12 15:17:00  \n",
      "3    ./articles/CBMiVGh0dHBzOi8vd3d3Lm5hc2RhcS5jb20... 2022-10-12 10:18:00  \n",
      "4    ./articles/CBMihQFodHRwczovL3d3dy5jaGFubmVsZnV... 2022-10-12 22:00:34  \n",
      "..                                                 ...                 ...  \n",
      "98   ./articles/CBMiaGh0dHBzOi8vd3d3Lm5ldHdvcmt3b3J... 2022-02-16 08:00:00  \n",
      "99   ./articles/CBMiamh0dHBzOi8vd3d3LmNybi5jb20vbmV... 2022-08-30 07:00:00  \n",
      "100  ./articles/CBMiWGh0dHBzOi8vd3d3Lm5ldHdvcmt3b3J... 2022-06-14 07:00:00  \n",
      "101  ./articles/CBMiYGh0dHBzOi8vd3d3LmZpZXJjZXRlbGV... 2022-06-16 16:01:48  \n",
      "102  ./articles/CBMigQFodHRwczovL3d3dy5yY3J3aXJlbGV... 2022-06-09 07:00:00  \n",
      "\n",
      "[103 rows x 3 columns]\n"
     ]
    }
   ],
   "source": [
    "t = soup.find_all('a', class_ = 'DY5T1d RZIKme')\n",
    "Titles = [t[i].text for i in range(0, len(t))]\n",
    "\n",
    "l = soup.find_all('a', class_ = 'DY5T1d RZIKme')\n",
    "Link = [l[i].get('href') for i in range(0, len(l))]\n",
    "\n",
    "\n",
    "\n",
    "d = soup.find_all('time', class_ = 'WW6dff uQIVzc Sksgp slhocf')\n",
    "date = [d[i].get('datetime') for i in range(0, len(d))]\n",
    "Date_and_Time = [datetime.datetime.strptime(date[i], \"%Y-%m-%dT%H:%M:%SZ\") for i in range(0,len(date))]\n",
    "\n",
    "\n",
    "dictio = {\n",
    "    \"Title\" : Titles,\n",
    "    \"Link\" : Link,\n",
    "    \"Date_and_time\" : Date_and_Time\n",
    "}\n",
    "\n",
    "df = pd.DataFrame(dictio)\n",
    "\n",
    "print(df)\n",
    "\n"
   ]
  }
 ],
 "metadata": {
  "kernelspec": {
   "display_name": "Python 3.10.1 64-bit",
   "language": "python",
   "name": "python3"
  },
  "language_info": {
   "codemirror_mode": {
    "name": "ipython",
    "version": 3
   },
   "file_extension": ".py",
   "mimetype": "text/x-python",
   "name": "python",
   "nbconvert_exporter": "python",
   "pygments_lexer": "ipython3",
   "version": "3.10.1"
  },
  "orig_nbformat": 4,
  "vscode": {
   "interpreter": {
    "hash": "df95319d8ce4e1d89f5365ae10992bc1f65da593082b1d264e8f529830ec2f02"
   }
  }
 },
 "nbformat": 4,
 "nbformat_minor": 2
}
