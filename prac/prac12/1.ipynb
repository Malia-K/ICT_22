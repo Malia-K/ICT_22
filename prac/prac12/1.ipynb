{
 "cells": [
  {
   "cell_type": "code",
   "execution_count": 27,
   "metadata": {},
   "outputs": [],
   "source": [
    "import sklearn.preprocessing as skprepro\n",
    "import numpy as np\n",
    "import pandas as pd\n",
    "import sklearn.linear_model as skmod\n",
    "import sklearn.model_selection as sksel"
   ]
  },
  {
   "cell_type": "code",
   "execution_count": 19,
   "metadata": {},
   "outputs": [],
   "source": [
    "data_str = pd.read_parquet(\"data_streamers.parquet\")\n",
    "\n",
    "Time_of_the_day = np.array([10, 11, 1, 14, 2, 14, 9, 5, 5, 9, 0, 6, 6, 23, 19, 19, 19, 2, 4, 19, 2, 18, 4, 15, 12, 22, 12, 4, 7]).reshape(-1,1)\n",
    "\n",
    "Number_of_viewers = np.array([23811, 47309, 25461, 9719, 30176, 5560, 45401, 43503, 40367, 20385, 26368, 2429, 29969, 37973, 17662, 37070, 5146, 47057, 1423, 46764, 25286, 46267, 4617, 9894, 14649, 2477, 16949, 47644, 4693]).reshape(-1,1)\n",
    "\n",
    "Average_age_of_viewers = np.array([20, 16, 30, 29, 14, 21, 7, 27, 22, 15, 28, 27, 27, 17, 12, 28, 26, 11, 19, 7, 25, 17, 26, 24, 23, 27, 30, 15, 13]).reshape(-1,1)\n",
    "\n",
    "\n",
    "\n",
    "\n",
    "Video_game= [\"League of Legend\", \"Fifa\", \"Minecraft\", \"Minecraft\", \"Fifa\", \"League of Legend\", \"GTA V\", \"League of Legend\", \"League of Legend\", \"League of Legend\", \"Minecraft\", \"Minecraft\", \"Minecraft\", \"Fifa\", \"Fifa\", \"League of Legend\", \"Minecraft\", \"Fifa\", \"Minecraft\", \"GTA V\", \"Minecraft\", \"Fifa\", \"Minecraft\", \"League of Legend\", \"League of Legend\", \"Minecraft\", \"Minecraft\", \"Fifa\", \"League of Legend\"]"
   ]
  },
  {
   "cell_type": "code",
   "execution_count": 60,
   "metadata": {},
   "outputs": [
    {
     "name": "stdout",
     "output_type": "stream",
     "text": [
      "[2 0 3 3 0 2 1 2 2 2 3 3 3 0 0 2 3 0 3 1 3 0 3 2 2 3 3 0 2]\n",
      "['Fifa' 'GTA V' 'League of Legend' 'Minecraft']\n"
     ]
    }
   ],
   "source": [
    "encoder = skprepro.LabelEncoder()\n",
    "encoder_games = encoder.fit_transform(Video_game)\n",
    "\n",
    "print(encoder_games)\n",
    "print(encoder.classes_)\n"
   ]
  },
  {
   "cell_type": "code",
   "execution_count": 61,
   "metadata": {},
   "outputs": [
    {
     "name": "stdout",
     "output_type": "stream",
     "text": [
      "0.8620689655172413\n"
     ]
    }
   ],
   "source": [
    "features = np.hstack([Time_of_the_day, Number_of_viewers, Average_age_of_viewers])\n",
    "\n",
    "model = skmod.LogisticRegression(multi_class = 'ovr').fit(features, encoder_games)\n",
    "\n",
    "\n",
    "print(model.score(features, encoder_games))\n"
   ]
  },
  {
   "cell_type": "code",
   "execution_count": 42,
   "metadata": {},
   "outputs": [
    {
     "name": "stdout",
     "output_type": "stream",
     "text": [
      "[[1.26333295e-01 1.12704196e-05 4.64051373e-01 4.09604061e-01]]\n",
      "[[1.09953053e-02 1.10048111e-09 3.36041953e-01 6.52962741e-01]]\n",
      "['League of Legend']\n",
      "['Minecraft']\n"
     ]
    }
   ],
   "source": [
    "print(model.predict_proba(np.array([[11, 10000, 18]])))\n",
    "print(model.predict_proba(np.array([[23, 1000, 30]])))\n",
    "\n",
    "print(encoder.inverse_transform(model.predict(np.array([[11, 10000, 18]]))))\n",
    "print(encoder.inverse_transform(model.predict(np.array([[23, 1000,  30]]))))\n"
   ]
  },
  {
   "cell_type": "code",
   "execution_count": 58,
   "metadata": {},
   "outputs": [
    {
     "name": "stdout",
     "output_type": "stream",
     "text": [
      "[[    6  2429    27]\n",
      " [    4 47644    15]\n",
      " [   15  9894    24]\n",
      " [   19 17662    12]\n",
      " [    5 43503    27]\n",
      " [   11 47309    16]\n",
      " [   22  2477    27]\n",
      " [   19 37070    28]\n",
      " [    0 26368    28]\n",
      " [    2 47057    11]\n",
      " [    2 30176    14]\n",
      " [   12 16949    30]\n",
      " [    2 25286    25]\n",
      " [   12 14649    23]\n",
      " [   19  5146    26]\n",
      " [    1 25461    30]\n",
      " [   18 46267    17]\n",
      " [    5 40367    22]\n",
      " [    7  4693    13]\n",
      " [   23 37973    17]\n",
      " [   19 46764     7]\n",
      " [    4  4617    26]\n",
      " [    4  1423    19]]\n",
      "[[   14  5560    21]\n",
      " [    9 45401     7]\n",
      " [   10 23811    20]\n",
      " [   14  9719    29]\n",
      " [    9 20385    15]\n",
      " [    6 29969    27]]\n",
      "[[3]\n",
      " [0]\n",
      " [2]\n",
      " [0]\n",
      " [2]\n",
      " [0]\n",
      " [3]\n",
      " [2]\n",
      " [3]\n",
      " [0]\n",
      " [0]\n",
      " [3]\n",
      " [3]\n",
      " [2]\n",
      " [3]\n",
      " [3]\n",
      " [0]\n",
      " [2]\n",
      " [2]\n",
      " [0]\n",
      " [1]\n",
      " [3]\n",
      " [3]]\n",
      "[[2]\n",
      " [1]\n",
      " [2]\n",
      " [3]\n",
      " [2]\n",
      " [3]]\n"
     ]
    }
   ],
   "source": [
    "encoder_games = encoder_games.reshape(-1,1)\n",
    "features_train, features_test, game_train, game_test = sksel.train_test_split(features, encoder_games, train_size=0.8)\n",
    "\n",
    "print(features_train, features_test, game_train, game_test , sep='\\n')"
   ]
  },
  {
   "cell_type": "code",
   "execution_count": 54,
   "metadata": {},
   "outputs": [
    {
     "name": "stdout",
     "output_type": "stream",
     "text": [
      "[[ 0.05618858 -0.19820462 -0.06817978]\n",
      " [ 0.19978161  1.28813478 -0.63841068]\n",
      " [-1.2361487  -0.09383574  1.35739746]\n",
      " [ 0.6305607  -1.08957813  1.21483973]\n",
      " [-1.09255567  0.20440625 -0.92352612]\n",
      " [ 0.6305607  -1.35265097  0.07437794]\n",
      " [-0.08740445  1.1674464  -1.92143019]\n",
      " [-0.66177658  1.04739055  0.92972428]\n",
      " [-0.66177658  0.84902642  0.21693567]\n",
      " [-0.08740445 -0.41491237 -0.7809684 ]\n",
      " [-1.37974173 -0.03646448  1.07228201]\n",
      " [-0.51818355 -1.55069883  0.92972428]\n",
      " [-0.51818355  0.1913127   0.92972428]\n",
      " [ 1.92289798  0.69759666 -0.49585295]\n",
      " [ 1.34852586 -0.58715266 -1.20864157]\n",
      " [ 1.34852586  0.64047842  1.07228201]\n",
      " [ 1.34852586 -1.37883807  0.78716656]\n",
      " [-1.09255567  1.2721948  -1.35119929]\n",
      " [-0.80536961 -1.61433223 -0.2107375 ]\n",
      " [ 1.34852586  1.25366142 -1.92143019]\n",
      " [-1.09255567 -0.10490517  0.64460884]\n",
      " [ 1.20493282  1.22222425 -0.49585295]\n",
      " [-0.80536961 -1.41229937  0.78716656]]\n",
      "[[ 0.17902872]\n",
      " [-1.46803549]\n",
      " [ 1.00256082]\n",
      " [ 1.00256082]\n",
      " [-1.46803549]\n",
      " [ 0.17902872]\n",
      " [-0.64450339]\n",
      " [ 0.17902872]\n",
      " [ 0.17902872]\n",
      " [ 0.17902872]\n",
      " [ 1.00256082]\n",
      " [ 1.00256082]\n",
      " [ 1.00256082]\n",
      " [-1.46803549]\n",
      " [-1.46803549]\n",
      " [ 0.17902872]\n",
      " [ 1.00256082]\n",
      " [-1.46803549]\n",
      " [ 1.00256082]\n",
      " [-0.64450339]\n",
      " [ 1.00256082]\n",
      " [-1.46803549]\n",
      " [ 1.00256082]]\n"
     ]
    }
   ],
   "source": [
    "scaler = skprepro.StandardScaler()\n",
    "\n",
    "x_train_std = scaler.fit_transform(features_train)\n",
    "y_train_std = scaler.fit_transform(game_train)\n",
    "print(x_train_std)\n",
    "print(y_train_std)"
   ]
  },
  {
   "cell_type": "code",
   "execution_count": null,
   "metadata": {},
   "outputs": [],
   "source": []
  }
 ],
 "metadata": {
  "kernelspec": {
   "display_name": "Python 3.10.1 64-bit",
   "language": "python",
   "name": "python3"
  },
  "language_info": {
   "codemirror_mode": {
    "name": "ipython",
    "version": 3
   },
   "file_extension": ".py",
   "mimetype": "text/x-python",
   "name": "python",
   "nbconvert_exporter": "python",
   "pygments_lexer": "ipython3",
   "version": "3.10.1 (tags/v3.10.1:2cd268a, Dec  6 2021, 19:10:37) [MSC v.1929 64 bit (AMD64)]"
  },
  "orig_nbformat": 4,
  "vscode": {
   "interpreter": {
    "hash": "df95319d8ce4e1d89f5365ae10992bc1f65da593082b1d264e8f529830ec2f02"
   }
  }
 },
 "nbformat": 4,
 "nbformat_minor": 2
}
