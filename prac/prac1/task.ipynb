{
 "cells": [
  {
   "cell_type": "code",
   "execution_count": 4,
   "metadata": {},
   "outputs": [
    {
     "ename": "TypeError",
     "evalue": "'list' object is not callable",
     "output_type": "error",
     "traceback": [
      "\u001b[1;31m---------------------------------------------------------------------------\u001b[0m",
      "\u001b[1;31mTypeError\u001b[0m                                 Traceback (most recent call last)",
      "\u001b[1;32mc:\\Users\\USER\\Desktop\\ICT\\prac1\\task.ipynb Ячейка 1\u001b[0m in \u001b[0;36m<cell line: 4>\u001b[1;34m()\u001b[0m\n\u001b[0;32m      <a href='vscode-notebook-cell:/c%3A/Users/USER/Desktop/ICT/prac1/task.ipynb#W0sZmlsZQ%3D%3D?line=0'>1</a>\u001b[0m \u001b[39mimport\u001b[39;00m \u001b[39mcsv\u001b[39;00m\n\u001b[0;32m      <a href='vscode-notebook-cell:/c%3A/Users/USER/Desktop/ICT/prac1/task.ipynb#W0sZmlsZQ%3D%3D?line=2'>3</a>\u001b[0m date , \u001b[39mopen\u001b[39m, high, low, close, adj_close, volume \u001b[39m=\u001b[39m [], [], [], [], [], [], []\n\u001b[1;32m----> <a href='vscode-notebook-cell:/c%3A/Users/USER/Desktop/ICT/prac1/task.ipynb#W0sZmlsZQ%3D%3D?line=3'>4</a>\u001b[0m \u001b[39mwith\u001b[39;00m \u001b[39mopen\u001b[39;49m(\u001b[39m\"\u001b[39;49m\u001b[39mCSCO.csv\u001b[39;49m\u001b[39m\"\u001b[39;49m) \u001b[39mas\u001b[39;00m csco:\n\u001b[0;32m      <a href='vscode-notebook-cell:/c%3A/Users/USER/Desktop/ICT/prac1/task.ipynb#W0sZmlsZQ%3D%3D?line=5'>6</a>\u001b[0m     csco_file \u001b[39m=\u001b[39m csv\u001b[39m.\u001b[39mreader(csco)\n\u001b[0;32m      <a href='vscode-notebook-cell:/c%3A/Users/USER/Desktop/ICT/prac1/task.ipynb#W0sZmlsZQ%3D%3D?line=7'>8</a>\u001b[0m     \u001b[39mfor\u001b[39;00m row \u001b[39min\u001b[39;00m csco_file:\n",
      "\u001b[1;31mTypeError\u001b[0m: 'list' object is not callable"
     ]
    }
   ],
   "source": [
    "import csv\n",
    "\n",
    "\n",
    "with open(\"CSCO.csv\") as csco:\n",
    "    date , open, high, low, close, adj_close, volume = [], [], [], [], [], [], []\n",
    "    csco_file = csv.reader(csco)\n",
    "    \n",
    "    for row in csco_file:\n",
    "        date.append(row[0])\n",
    "        open.append(row[1])\n",
    "        high.append(row[2])\n",
    "        low.append(row[3])\n",
    "        close.append(row[4])\n",
    "        adj_close.append(row[5])\n",
    "        volume.append(row[6])\n",
    "\n",
    "print(date[:10])\n",
    "print(open[:10])\n",
    "print(high[:10])\n",
    "print(low[:10])\n",
    "print(close[:10])\n",
    "print(adj_close[:10])\n",
    "print(volume[:10])\n",
    "        "
   ]
  },
  {
   "cell_type": "code",
   "execution_count": null,
   "metadata": {},
   "outputs": [],
   "source": []
  }
 ],
 "metadata": {
  "kernelspec": {
   "display_name": "Python 3.10.1 64-bit",
   "language": "python",
   "name": "python3"
  },
  "language_info": {
   "name": "python",
   "version": "3.10.1"
  },
  "orig_nbformat": 4,
  "vscode": {
   "interpreter": {
    "hash": "df95319d8ce4e1d89f5365ae10992bc1f65da593082b1d264e8f529830ec2f02"
   }
  }
 },
 "nbformat": 4,
 "nbformat_minor": 2
}
